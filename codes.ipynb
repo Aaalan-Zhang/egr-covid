{
 "cells": [
  {
   "cell_type": "markdown",
   "metadata": {},
   "source": [
    "# EGR 305/ECON 211 Engineering Systems Optimization and Economy\n",
    "## Final Project Code\n",
    "> Code Author: Chenglin Zhang\n",
    "> \n",
    "> NetID: cz155\n",
    "> \n",
    "> Date: 4th Dec., 2022"
   ]
  },
  {
   "cell_type": "code",
   "execution_count": 18,
   "metadata": {},
   "outputs": [],
   "source": [
    "import matplotlib.pyplot as plt\n",
    "import numpy as np\n",
    "\n",
    "# 0-19, 20-59 (20-29, 30-39, 40-49, 50-59), 60-69, 70-79, 80+\n",
    "# based on the other regions' data\n",
    "\n",
    "# here is the data for 5 age groups' people's willingness to get vaccinated (one dose, two dose (if applicable), not vaccinated)\n",
    "\n",
    "willingness_pfizer_first_dose = np.array([0.05, 0.2, 0.08, 0.11, 0.15])\n",
    "willingness_pfizer_second_dose = np.array([0.8, 0.6, 0.87, 0.8, 0.62])\n",
    "willingness_pfizer_no_dose = 1 - willingness_pfizer_first_dose - willingness_pfizer_second_dose\n",
    "\n",
    "# x = np.array([i for i in range(1, len(willingness_pfizer_first_dose) + 1)])\n",
    "age_group = ['0-19', '20-59', '60-69', '70-79', '80+']\n",
    "\n",
    "willingness_oxford_first_dose = []\n",
    "willingness_oxford_second_dose = []\n",
    "\n",
    "willingness_jenssen_first_dose = []\n",
    "\n",
    "willingness_sinovac_first_dose = []\n",
    "willingness_sinovac_second_dose = []"
   ]
  },
  {
   "cell_type": "code",
   "execution_count": 25,
   "metadata": {},
   "outputs": [
    {
     "data": {
      "image/png": "[encoded data removed]",
      "text/plain": [
       "<Figure size 432x288 with 1 Axes>"
      ]
     },
     "metadata": {
      "needs_background": "light"
     },
     "output_type": "display_data"
    }
   ],
   "source": [
    "# visualize the willingness to get vaccinated for Pfizer\n",
    "\n",
    "plt.stackplot(age_group, willingness_pfizer_first_dose, \n",
    "              willingness_pfizer_second_dose, \n",
    "              willingness_pfizer_no_dose, labels = ['one dose', 'two doses', 'not vaccinated'])\n",
    "plt.xlabel('Age')\n",
    "plt.ylabel('Percentage * 1')\n",
    "plt.title(\"People's willingness to get the Pfizer vaccine\")\n",
    "plt.legend(bbox_to_anchor=(1.05, 1.0), loc='upper left')\n",
    "plt.grid()\n",
    "plt.show()"
   ]
  },
  {
   "cell_type": "code",
   "execution_count": 6,
   "metadata": {},
   "outputs": [
    {
     "name": "stdout",
     "output_type": "stream",
     "text": [
      "0.984558690853588\n",
      "0.9746676356584331\n"
     ]
    }
   ],
   "source": [
    "def utility_of_QALY(QALY):\n",
    "    return np.sqrt(QALY)\n",
    "\n",
    "population_A = [0.23, 0.57, 0.15, 0.05]\n",
    "\n",
    "different_outcome_group_20_59 = [0.9999, 0.00009, 0.00001]\n",
    "\n",
    "pfizer_20_59_transition_2 = [np.random.triangular(0.5, 0.6, 0.7), np.random.triangular(0.9, 0.95, 1), np.random.triangular(0.999, 0.9999, 1)]\n",
    "pfizer_20_59_transition_1 = [np.random.triangular(0.3, 0.4, 0.5), np.random.triangular(0.6, 0.68, 0.75), np.random.triangular(0.99, 0.995, 1)]\n",
    "\n",
    "QALY_loss_20_59 = [0.95, 0.8, 0]\n",
    "\n",
    "# the inputs are \n",
    "# 1. willingness_(vaccine brand)_(which dose)\n",
    "# 2. different_outcome_(age group): the percentage of people will have mild symptoms, be hospitalized, and be dead\n",
    "# 3. (vaccine brand)_(age group)_transition_(which dose): the percentage of people will go to the less severe case if they were to get vaccinated\n",
    "# 4. QALY_loss_(age group): the loss in QALY (based on how severe the outcome is)\n",
    "\n",
    "# the output is\n",
    "# QALY_(vaccine brand)_(age group)_(region)\n",
    "# utility_QALY_(vaccine brand)_(age group)_(region)\n",
    "\n",
    "QALY_pfizer_20_59_A = \\\n",
    "willingness_pfizer_no_dose[1] * (different_outcome_group_20_59[0] * QALY_loss_20_59[0] + \n",
    "                                 different_outcome_group_20_59[1] * QALY_loss_20_59[1] + \n",
    "                                 different_outcome_group_20_59[2] * QALY_loss_20_59[2]) + \\\n",
    "\\\n",
    "willingness_pfizer_first_dose[1] * (different_outcome_group_20_59[0] * pfizer_20_59_transition_1[0] * 1 + \n",
    "                                    different_outcome_group_20_59[0] * (1 - pfizer_20_59_transition_1[0]) * QALY_loss_20_59[0] + \n",
    "                                    different_outcome_group_20_59[1] * pfizer_20_59_transition_1[1] * QALY_loss_20_59[0] + \n",
    "                                    different_outcome_group_20_59[1] * (1 - pfizer_20_59_transition_1[1]) * QALY_loss_20_59[1] + \n",
    "                                    different_outcome_group_20_59[2] * pfizer_20_59_transition_1[2] * QALY_loss_20_59[1] + \n",
    "                                    different_outcome_group_20_59[2] * (1 - pfizer_20_59_transition_1[2]) * QALY_loss_20_59[2]) + \\\n",
    "\\\n",
    "willingness_pfizer_second_dose[1] * (different_outcome_group_20_59[0] * pfizer_20_59_transition_2[0] * 1 + \n",
    "                                    different_outcome_group_20_59[0] * (1 - pfizer_20_59_transition_2[0]) * QALY_loss_20_59[0] + \n",
    "                                    different_outcome_group_20_59[1] * pfizer_20_59_transition_2[1] * QALY_loss_20_59[0] + \n",
    "                                    different_outcome_group_20_59[1] * (1 - pfizer_20_59_transition_2[1]) * QALY_loss_20_59[1] + \n",
    "                                    different_outcome_group_20_59[2] * pfizer_20_59_transition_2[2] * QALY_loss_20_59[1] + \n",
    "                                    different_outcome_group_20_59[2] * (1 - pfizer_20_59_transition_2[2]) * QALY_loss_20_59[2])\n",
    "\n",
    "utility_QALY_pfizer_20_59_A = utility_of_QALY(QALY_pfizer_20_59_A)       \n",
    "print(utility_QALY_pfizer_20_59_A)\n",
    "\n",
    "QALY_no_vaccine_20_59_A = different_outcome_group_20_59[0] * QALY_loss_20_59[0] + \\\n",
    "                          different_outcome_group_20_59[1] * QALY_loss_20_59[1] + \\\n",
    "                          different_outcome_group_20_59[2] * QALY_loss_20_59[2]\n",
    "\n",
    "utility_QALY_no_vaccine_20_59_A = utility_of_QALY(QALY_no_vaccine_20_59_A)   \n",
    "print(utility_QALY_no_vaccine_20_59_A)                                               "
   ]
  },
  {
   "cell_type": "code",
   "execution_count": 9,
   "metadata": {},
   "outputs": [],
   "source": [
    "def calculate_expectation(ageGroup_index, willingness_vaccineBrand_whichDose, different_outcome_ageGroup, QALY_loss_ageGroup, vaccineBrand_ageGroup_transition_whichDose):\n",
    "    if len(willingness_vaccineBrand_whichDose) == 3:\n",
    "        result = \\\n",
    "        willingness_vaccineBrand_whichDose[0][ageGroup_index] * (different_outcome_ageGroup[0] * QALY_loss_ageGroup[0] + \n",
    "                                        different_outcome_ageGroup[1] * QALY_loss_ageGroup[1] + \n",
    "                                        different_outcome_ageGroup[2] * QALY_loss_ageGroup[2]) + \\\n",
    "        \\\n",
    "        willingness_vaccineBrand_whichDose[1][ageGroup_index] * (different_outcome_ageGroup[0] * vaccineBrand_ageGroup_transition_whichDose[0][0] * 1 + \n",
    "                                            different_outcome_ageGroup[0] * (1 - vaccineBrand_ageGroup_transition_whichDose[0][0]) * QALY_loss_ageGroup[0] + \n",
    "                                            different_outcome_ageGroup[1] * vaccineBrand_ageGroup_transition_whichDose[0][1] * QALY_loss_ageGroup[0] + \n",
    "                                            different_outcome_ageGroup[1] * (1 - vaccineBrand_ageGroup_transition_whichDose[0][1]) * QALY_loss_ageGroup[1] + \n",
    "                                            different_outcome_ageGroup[2] * vaccineBrand_ageGroup_transition_whichDose[0][2] * QALY_loss_ageGroup[1] + \n",
    "                                            different_outcome_ageGroup[2] * (1 - vaccineBrand_ageGroup_transition_whichDose[0][2]) * QALY_loss_ageGroup[2]) + \\\n",
    "        \\\n",
    "        willingness_vaccineBrand_whichDose[2][ageGroup_index] * (different_outcome_ageGroup[0] * vaccineBrand_ageGroup_transition_whichDose[1][0] * 1 + \n",
    "                                            different_outcome_ageGroup[0] * (1 - vaccineBrand_ageGroup_transition_whichDose[1][0]) * QALY_loss_ageGroup[0] + \n",
    "                                            different_outcome_ageGroup[1] * vaccineBrand_ageGroup_transition_whichDose[1][1] * QALY_loss_ageGroup[0] + \n",
    "                                            different_outcome_ageGroup[1] * (1 - vaccineBrand_ageGroup_transition_whichDose[1][1]) * QALY_loss_ageGroup[1] + \n",
    "                                            different_outcome_ageGroup[2] * vaccineBrand_ageGroup_transition_whichDose[1][2] * QALY_loss_ageGroup[1] + \n",
    "                                            different_outcome_ageGroup[2] * (1 - vaccineBrand_ageGroup_transition_whichDose[1][2]) * QALY_loss_ageGroup[2])\n",
    "    else:\n",
    "        result = \\\n",
    "        willingness_vaccineBrand_whichDose[0][ageGroup_index] * (different_outcome_ageGroup[0] * QALY_loss_ageGroup[0] + \n",
    "                                        different_outcome_ageGroup[1] * QALY_loss_ageGroup[1] + \n",
    "                                        different_outcome_ageGroup[2] * QALY_loss_ageGroup[2]) + \\\n",
    "        \\\n",
    "        willingness_vaccineBrand_whichDose[1][ageGroup_index] * (different_outcome_ageGroup[0] * vaccineBrand_ageGroup_transition_whichDose[0][0] * 1 + \n",
    "                                            different_outcome_ageGroup[0] * (1 - vaccineBrand_ageGroup_transition_whichDose[0][0]) * QALY_loss_ageGroup[0] + \n",
    "                                            different_outcome_ageGroup[1] * vaccineBrand_ageGroup_transition_whichDose[0][1] * QALY_loss_ageGroup[0] + \n",
    "                                            different_outcome_ageGroup[1] * (1 - vaccineBrand_ageGroup_transition_whichDose[0][1]) * QALY_loss_ageGroup[1] + \n",
    "                                            different_outcome_ageGroup[2] * vaccineBrand_ageGroup_transition_whichDose[0][2] * QALY_loss_ageGroup[1] + \n",
    "                                            different_outcome_ageGroup[2] * (1 - vaccineBrand_ageGroup_transition_whichDose[0][2]) * QALY_loss_ageGroup[2])\n",
    "    if_not_vaccinated = different_outcome_ageGroup[0] * QALY_loss_ageGroup[0] + \\\n",
    "                        different_outcome_ageGroup[1] * QALY_loss_ageGroup[1] + \\\n",
    "                        different_outcome_ageGroup[2] * QALY_loss_ageGroup[2]\n",
    "    return utility_of_QALY(result), utility_of_QALY(if_not_vaccinated)"
   ]
  },
  {
   "cell_type": "code",
   "execution_count": 12,
   "metadata": {},
   "outputs": [
    {
     "name": "stderr",
     "output_type": "stream",
     "text": [
      "100%|██████████| 10000/10000 [00:00<00:00, 93966.42it/s]\n"
     ]
    }
   ],
   "source": [
    "# Pfizer 20-59\n",
    "from tqdm import tqdm\n",
    "\n",
    "willingness_first_dose = np.array([0.05, 0.2, 0.08, 0.11, 0.15])\n",
    "willingness_second_dose = np.array([0.8, 0.6, 0.87, 0.8, 0.62])\n",
    "willingness_no_dose = 1 - willingness_first_dose - willingness_second_dose\n",
    "\n",
    "willingness_vaccineBrand_whichDose = [willingness_no_dose, willingness_first_dose, willingness_second_dose]\n",
    "different_outcome_ageGroup = [0.9999, 0.00009, 0.00001]\n",
    "QALY_loss_ageGroup = [0.95, 0.8, 0]\n",
    "\n",
    "MC = 10000\n",
    "pfizer_20_59 = []\n",
    "\n",
    "for i in tqdm(range(0, MC)):\n",
    "    vaccineBrand_ageGroup_transition_whichDose = [[np.random.triangular(0.3, 0.4, 0.5), np.random.triangular(0.6, 0.68, 0.75), np.random.triangular(0.99, 0.995, 1)], \n",
    "                                                [np.random.triangular(0.5, 0.6, 0.7), np.random.triangular(0.9, 0.95, 1), np.random.triangular(0.999, 0.9999, 1)]]\n",
    "\n",
    "    this_pfizer_20_59, this_non_20_59 = calculate_expectation(1, willingness_vaccineBrand_whichDose, different_outcome_ageGroup, QALY_loss_ageGroup, vaccineBrand_ageGroup_transition_whichDose)\n",
    "    pfizer_20_59.append(this_pfizer_20_59)\n"
   ]
  },
  {
   "cell_type": "code",
   "execution_count": 17,
   "metadata": {},
   "outputs": [
    {
     "data": {
      "image/png": "[encoded data removed]",
      "text/plain": [
       "<Figure size 432x288 with 1 Axes>"
      ]
     },
     "metadata": {
      "needs_background": "light"
     },
     "output_type": "display_data"
    }
   ],
   "source": [
    "plt.hist(pfizer_20_59)\n",
    "plt.xlabel('Utility of QUALY for 20-59 (age), Pfizer Vaccine')\n",
    "plt.ylabel('Count')\n",
    "plt.title('Histogram of E(U(QUALY)) for 20-59 (age), Pfizer Vaccine')\n",
    "plt.grid()\n",
    "plt.show()"
   ]
  },
  {
   "cell_type": "code",
   "execution_count": null,
   "metadata": {},
   "outputs": [],
   "source": []
  }
 ],
 "metadata": {
  "kernelspec": {
   "display_name": "Python 3.8.5",
   "language": "python",
   "name": "python3"
  },
  "language_info": {
   "codemirror_mode": {
    "name": "ipython",
    "version": 3
   },
   "file_extension": ".py",
   "mimetype": "text/x-python",
   "name": "python",
   "nbconvert_exporter": "python",
   "pygments_lexer": "ipython3",
   "version": "3.8.5"
  },
  "orig_nbformat": 4,
  "vscode": {
   "interpreter": {
    "hash": "40d3a090f54c6569ab1632332b64b2c03c39dcf918b08424e98f38b5ae0af88f"
   }
  }
 },
 "nbformat": 4,
 "nbformat_minor": 2
}
