{
 "cells": [
  {
   "cell_type": "markdown",
   "metadata": {},
   "source": [
    "# EGR 305/ECON 211 Engineering Systems Optimization and Economy\n",
    "## Final Project Code\n",
    "> Team: Adway, Chenglin, Yutong\n",
    "> \n",
    "> Code Author: Chenglin\n",
    "> \n",
    "> NetID: cz155\n",
    "> \n",
    "> Date: 4th Dec., 2022"
   ]
  },
  {
   "cell_type": "code",
   "execution_count": 57,
   "metadata": {},
   "outputs": [],
   "source": [
    "import matplotlib.pyplot as plt\n",
    "import numpy as np\n",
    "from tqdm import tqdm\n",
    "\n",
    "# Assume one QALY worths $100,000\n",
    "\n",
    "# the inputs are \n",
    "# 1. willingness_(vaccine brand)_(which dose)\n",
    "# 2. different_outcome_(age group): the percentage of people will have mild symptoms, be hospitalized, and be dead\n",
    "# 3. (vaccine brand)_(age group)_transition_(which dose): the percentage of people will go to the less severe case if they were to get vaccinated\n",
    "# 4. QALY_loss_(age group): the loss in QALY (based on how severe the outcome is)\n",
    "\n",
    "# the output is\n",
    "# QALY_(vaccine brand)_(age group)_(region)\n",
    "# utility_QALY_(vaccine brand)_(age group)_(region)\n",
    "\n",
    "population_A = [0.23, 0.57, 0.10, 0.07, 0.03]\n",
    "\n",
    "QALY = 100000\n",
    "\n",
    "\n",
    "# 0-19, 20-59, 60-69, 70-79, 80+\n",
    "# based on the other regions' data\n",
    "\n",
    "# here is the data for 5 age groups' people's willingness to get vaccinated (one dose, two dose (if applicable), not vaccinated)\n",
    "\n",
    "willingness_pfizer_first_dose = np.array([0.05, 0.2, 0.08, 0.11, 0.15])\n",
    "willingness_pfizer_second_dose = np.array([0.8, 0.6, 0.87, 0.8, 0.62])\n",
    "willingness_pfizer_no_dose = 1 - willingness_pfizer_first_dose - willingness_pfizer_second_dose\n",
    "\n",
    "# x = np.array([i for i in range(1, len(willingness_pfizer_first_dose) + 1)])\n",
    "age_group = ['0-19', '20-59', '60-69', '70-79', '80+']\n",
    "\n",
    "willingness_oxford_first_dose = []\n",
    "willingness_oxford_second_dose = []\n",
    "\n",
    "willingness_jenssen_first_dose = []\n",
    "\n",
    "willingness_sinovac_first_dose = []\n",
    "willingness_sinovac_second_dose = []"
   ]
  },
  {
   "cell_type": "code",
   "execution_count": 25,
   "metadata": {},
   "outputs": [
    {
     "data": {
      "image/png": "[encoded data removed]",
      "text/plain": [
       "<Figure size 432x288 with 1 Axes>"
      ]
     },
     "metadata": {
      "needs_background": "light"
     },
     "output_type": "display_data"
    }
   ],
   "source": [
    "# visualize the willingness to get vaccinated for Pfizer\n",
    "\n",
    "plt.stackplot(age_group, willingness_pfizer_first_dose, \n",
    "              willingness_pfizer_second_dose, \n",
    "              willingness_pfizer_no_dose, labels = ['one dose', 'two doses', 'not vaccinated'])\n",
    "plt.xlabel('Age')\n",
    "plt.ylabel('Percentage * 1')\n",
    "plt.title(\"People's willingness to get the Pfizer vaccine\")\n",
    "plt.legend(bbox_to_anchor=(1.05, 1.0), loc='upper left')\n",
    "plt.grid()\n",
    "plt.show()"
   ]
  },
  {
   "cell_type": "code",
   "execution_count": 26,
   "metadata": {},
   "outputs": [],
   "source": [
    "def utility_of_QALY(QALY):\n",
    "    return np.sqrt(QALY)"
   ]
  },
  {
   "cell_type": "code",
   "execution_count": 9,
   "metadata": {},
   "outputs": [],
   "source": [
    "def calculate_expectation(ageGroup_index, willingness_vaccineBrand_whichDose, different_outcome_ageGroup, QALY_loss_ageGroup, vaccineBrand_ageGroup_transition_whichDose):\n",
    "    if len(willingness_vaccineBrand_whichDose) == 3:\n",
    "        result = \\\n",
    "        willingness_vaccineBrand_whichDose[0][ageGroup_index] * (different_outcome_ageGroup[0] * QALY_loss_ageGroup[0] + \n",
    "                                        different_outcome_ageGroup[1] * QALY_loss_ageGroup[1] + \n",
    "                                        different_outcome_ageGroup[2] * QALY_loss_ageGroup[2]) + \\\n",
    "        \\\n",
    "        willingness_vaccineBrand_whichDose[1][ageGroup_index] * (different_outcome_ageGroup[0] * vaccineBrand_ageGroup_transition_whichDose[0][0] * 1 + \n",
    "                                            different_outcome_ageGroup[0] * (1 - vaccineBrand_ageGroup_transition_whichDose[0][0]) * QALY_loss_ageGroup[0] + \n",
    "                                            different_outcome_ageGroup[1] * vaccineBrand_ageGroup_transition_whichDose[0][1] * QALY_loss_ageGroup[0] + \n",
    "                                            different_outcome_ageGroup[1] * (1 - vaccineBrand_ageGroup_transition_whichDose[0][1]) * QALY_loss_ageGroup[1] + \n",
    "                                            different_outcome_ageGroup[2] * vaccineBrand_ageGroup_transition_whichDose[0][2] * QALY_loss_ageGroup[1] + \n",
    "                                            different_outcome_ageGroup[2] * (1 - vaccineBrand_ageGroup_transition_whichDose[0][2]) * QALY_loss_ageGroup[2]) + \\\n",
    "        \\\n",
    "        willingness_vaccineBrand_whichDose[2][ageGroup_index] * (different_outcome_ageGroup[0] * vaccineBrand_ageGroup_transition_whichDose[1][0] * 1 + \n",
    "                                            different_outcome_ageGroup[0] * (1 - vaccineBrand_ageGroup_transition_whichDose[1][0]) * QALY_loss_ageGroup[0] + \n",
    "                                            different_outcome_ageGroup[1] * vaccineBrand_ageGroup_transition_whichDose[1][1] * QALY_loss_ageGroup[0] + \n",
    "                                            different_outcome_ageGroup[1] * (1 - vaccineBrand_ageGroup_transition_whichDose[1][1]) * QALY_loss_ageGroup[1] + \n",
    "                                            different_outcome_ageGroup[2] * vaccineBrand_ageGroup_transition_whichDose[1][2] * QALY_loss_ageGroup[1] + \n",
    "                                            different_outcome_ageGroup[2] * (1 - vaccineBrand_ageGroup_transition_whichDose[1][2]) * QALY_loss_ageGroup[2])\n",
    "    else:\n",
    "        result = \\\n",
    "        willingness_vaccineBrand_whichDose[0][ageGroup_index] * (different_outcome_ageGroup[0] * QALY_loss_ageGroup[0] + \n",
    "                                        different_outcome_ageGroup[1] * QALY_loss_ageGroup[1] + \n",
    "                                        different_outcome_ageGroup[2] * QALY_loss_ageGroup[2]) + \\\n",
    "        \\\n",
    "        willingness_vaccineBrand_whichDose[1][ageGroup_index] * (different_outcome_ageGroup[0] * vaccineBrand_ageGroup_transition_whichDose[0][0] * 1 + \n",
    "                                            different_outcome_ageGroup[0] * (1 - vaccineBrand_ageGroup_transition_whichDose[0][0]) * QALY_loss_ageGroup[0] + \n",
    "                                            different_outcome_ageGroup[1] * vaccineBrand_ageGroup_transition_whichDose[0][1] * QALY_loss_ageGroup[0] + \n",
    "                                            different_outcome_ageGroup[1] * (1 - vaccineBrand_ageGroup_transition_whichDose[0][1]) * QALY_loss_ageGroup[1] + \n",
    "                                            different_outcome_ageGroup[2] * vaccineBrand_ageGroup_transition_whichDose[0][2] * QALY_loss_ageGroup[1] + \n",
    "                                            different_outcome_ageGroup[2] * (1 - vaccineBrand_ageGroup_transition_whichDose[0][2]) * QALY_loss_ageGroup[2])\n",
    "    if_not_vaccinated = different_outcome_ageGroup[0] * QALY_loss_ageGroup[0] + \\\n",
    "                        different_outcome_ageGroup[1] * QALY_loss_ageGroup[1] + \\\n",
    "                        different_outcome_ageGroup[2] * QALY_loss_ageGroup[2]\n",
    "    return utility_of_QALY(result), utility_of_QALY(if_not_vaccinated)"
   ]
  },
  {
   "cell_type": "code",
   "execution_count": null,
   "metadata": {},
   "outputs": [],
   "source": [
    "# Pfizer willingness\n",
    "\n",
    "willingness_first_dose = np.array([0.05, 0.2, 0.08, 0.11, 0.15])\n",
    "willingness_second_dose = np.array([0.8, 0.6, 0.87, 0.8, 0.62])\n",
    "willingness_no_dose = 1 - willingness_first_dose - willingness_second_dose\n",
    "willingness_vaccineBrand_whichDose = [willingness_no_dose, willingness_first_dose, willingness_second_dose]"
   ]
  },
  {
   "cell_type": "code",
   "execution_count": 28,
   "metadata": {},
   "outputs": [
    {
     "name": "stderr",
     "output_type": "stream",
     "text": [
      "100%|██████████| 10000/10000 [00:00<00:00, 93430.16it/s]\n"
     ]
    }
   ],
   "source": [
    "# Pfizer 0-19\n",
    "\n",
    "different_outcome_ageGroup = [0.99999, 0.000009, 0.000001] # children are less influenced by COVID\n",
    "QALY_loss_ageGroup = [0.92, 0.75, 0]\n",
    "\n",
    "# Pfizer seems to be more effective on children\n",
    "\n",
    "MC = 10000\n",
    "pfizer_0_19 = []\n",
    "\n",
    "for i in tqdm(range(0, MC)):\n",
    "    vaccineBrand_ageGroup_transition_whichDose = [[np.random.triangular(0.3, 0.4, 0.5), np.random.triangular(0.6, 0.68, 0.75), np.random.triangular(0.993, 0.999, 1)], \n",
    "                                                [np.random.triangular(0.56, 0.68, 0.72), np.random.triangular(0.95, 0.99, 1), np.random.triangular(0.999, 0.9999, 1)]]\n",
    "\n",
    "    this_pfizer_0_19, this_non_0_19 = calculate_expectation(0, willingness_vaccineBrand_whichDose, different_outcome_ageGroup, QALY_loss_ageGroup, vaccineBrand_ageGroup_transition_whichDose)\n",
    "    pfizer_0_19.append(this_pfizer_0_19)\n"
   ]
  },
  {
   "cell_type": "code",
   "execution_count": 29,
   "metadata": {},
   "outputs": [
    {
     "data": {
      "image/png": "[encoded data removed]",
      "text/plain": [
       "<Figure size 432x288 with 1 Axes>"
      ]
     },
     "metadata": {
      "needs_background": "light"
     },
     "output_type": "display_data"
    }
   ],
   "source": [
    "plt.hist(pfizer_0_19)\n",
    "plt.xlabel('Utility of QUALY for 0_19 (age), Pfizer Vaccine')\n",
    "plt.ylabel('Count')\n",
    "plt.title('Histogram of E(U(QUALY)) for 0_19 (age), Pfizer Vaccine')\n",
    "plt.grid()\n",
    "plt.show()"
   ]
  },
  {
   "cell_type": "code",
   "execution_count": 67,
   "metadata": {},
   "outputs": [
    {
     "name": "stdout",
     "output_type": "stream",
     "text": [
      "0.9591650275109076\n",
      "0.9815517096804868\n",
      "4344.620877668648\n"
     ]
    }
   ],
   "source": [
    "print(this_non_0_19)\n",
    "print(np.mean(pfizer_0_19))\n",
    "QALY_gained_0_19 = QALY * (np.mean(pfizer_0_19) ** 2 - this_non_0_19 ** 2)\n",
    "print(QALY_gained_0_19)"
   ]
  },
  {
   "cell_type": "code",
   "execution_count": 39,
   "metadata": {},
   "outputs": [
    {
     "name": "stderr",
     "output_type": "stream",
     "text": [
      "100%|██████████| 10000/10000 [00:00<00:00, 103026.81it/s]\n"
     ]
    }
   ],
   "source": [
    "# Pfizer 20-59\n",
    "\n",
    "willingness_vaccineBrand_whichDose = [willingness_no_dose, willingness_first_dose, willingness_second_dose]\n",
    "different_outcome_ageGroup = [0.9999, 0.00009, 0.00001]\n",
    "QALY_loss_ageGroup = [0.95, 0.8, 0]\n",
    "\n",
    "MC = 10000\n",
    "pfizer_20_59 = []\n",
    "\n",
    "for i in tqdm(range(0, MC)):\n",
    "    vaccineBrand_ageGroup_transition_whichDose = [[np.random.triangular(0.3, 0.4, 0.5), np.random.triangular(0.6, 0.68, 0.75), np.random.triangular(0.99, 0.995, 1)], \n",
    "                                                [np.random.triangular(0.5, 0.6, 0.7), np.random.triangular(0.9, 0.95, 1), np.random.triangular(0.999, 0.9999, 1)]]\n",
    "\n",
    "    this_pfizer_20_59, this_non_20_59 = calculate_expectation(1, willingness_vaccineBrand_whichDose, different_outcome_ageGroup, QALY_loss_ageGroup, vaccineBrand_ageGroup_transition_whichDose)\n",
    "    pfizer_20_59.append(this_pfizer_20_59)\n"
   ]
  },
  {
   "cell_type": "code",
   "execution_count": 40,
   "metadata": {},
   "outputs": [
    {
     "data": {
      "image/png": "[encoded data removed]",
      "text/plain": [
       "<Figure size 432x288 with 1 Axes>"
      ]
     },
     "metadata": {
      "needs_background": "light"
     },
     "output_type": "display_data"
    }
   ],
   "source": [
    "plt.hist(pfizer_20_59)\n",
    "plt.xlabel('Utility of QUALY for 20-59 (age), Pfizer Vaccine')\n",
    "plt.ylabel('Count')\n",
    "plt.title('Histogram of E(U(QUALY)) for 20-59 (age), Pfizer Vaccine')\n",
    "plt.grid()\n",
    "plt.show()"
   ]
  },
  {
   "cell_type": "code",
   "execution_count": 66,
   "metadata": {},
   "outputs": [
    {
     "name": "stdout",
     "output_type": "stream",
     "text": [
      "0.9746676356584331\n",
      "0.9859023624380183\n",
      "2202.6468260865518\n"
     ]
    }
   ],
   "source": [
    "print(this_non_20_59)\n",
    "print(np.mean(pfizer_20_59))\n",
    "QALY_gained_20_59 = QALY * (np.mean(pfizer_20_59) ** 2 - this_non_20_59 ** 2)\n",
    "print(QALY_gained_20_59)"
   ]
  },
  {
   "cell_type": "code",
   "execution_count": 32,
   "metadata": {},
   "outputs": [
    {
     "name": "stderr",
     "output_type": "stream",
     "text": [
      "100%|██████████| 10000/10000 [00:00<00:00, 103519.61it/s]\n"
     ]
    }
   ],
   "source": [
    "# Pfizer 60-69\n",
    "\n",
    "willingness_vaccineBrand_whichDose = [willingness_no_dose, willingness_first_dose, willingness_second_dose]\n",
    "different_outcome_ageGroup = [0.92, 0.0799, 0.0001]\n",
    "QALY_loss_ageGroup = [0.82, 0.6, 0]\n",
    "\n",
    "MC = 10000\n",
    "pfizer_60_69 = []\n",
    "\n",
    "for i in tqdm(range(0, MC)):\n",
    "    vaccineBrand_ageGroup_transition_whichDose = [[np.random.triangular(0.4, 0.5, 0.6), np.random.triangular(0.68, 0.78, 0.85), np.random.triangular(0.82, 0.89, 1)], \n",
    "                                                [np.random.triangular(0.6, 0.7, 0.8), np.random.triangular(0.84, 0.92, 1), np.random.triangular(0.86, 0.94, 1)]]\n",
    "\n",
    "    this_pfizer_60_69, this_non_60_69 = calculate_expectation(2, willingness_vaccineBrand_whichDose, different_outcome_ageGroup, QALY_loss_ageGroup, vaccineBrand_ageGroup_transition_whichDose)\n",
    "    pfizer_60_69.append(this_pfizer_60_69)"
   ]
  },
  {
   "cell_type": "code",
   "execution_count": 33,
   "metadata": {},
   "outputs": [
    {
     "data": {
      "image/png": "[encoded data removed]",
      "text/plain": [
       "<Figure size 432x288 with 1 Axes>"
      ]
     },
     "metadata": {
      "needs_background": "light"
     },
     "output_type": "display_data"
    }
   ],
   "source": [
    "plt.hist(pfizer_60_69)\n",
    "plt.xlabel('Utility of QUALY for 60-69 (age), Pfizer Vaccine')\n",
    "plt.ylabel('Count')\n",
    "plt.title('Histogram of E(U(QUALY)) for 60-69 (age), Pfizer Vaccine')\n",
    "plt.grid()\n",
    "plt.show()"
   ]
  },
  {
   "cell_type": "code",
   "execution_count": 65,
   "metadata": {},
   "outputs": [
    {
     "name": "stdout",
     "output_type": "stream",
     "text": [
      "0.8957343356151979\n",
      "0.9617756183636662\n",
      "12267.234007881256\n"
     ]
    }
   ],
   "source": [
    "print(this_non_60_69)\n",
    "print(np.mean(pfizer_60_69))\n",
    "QALY_gained_60_69 = QALY * (np.mean(pfizer_60_69) ** 2 - this_non_60_69 ** 2)\n",
    "print(QALY_gained_60_69)"
   ]
  },
  {
   "cell_type": "code",
   "execution_count": 49,
   "metadata": {},
   "outputs": [
    {
     "name": "stderr",
     "output_type": "stream",
     "text": [
      "100%|██████████| 10000/10000 [00:00<00:00, 96197.43it/s]\n"
     ]
    }
   ],
   "source": [
    "# Pfizer 70-79\n",
    "\n",
    "willingness_vaccineBrand_whichDose = [willingness_no_dose, willingness_first_dose, willingness_second_dose]\n",
    "different_outcome_ageGroup = [0.84, 0.159, 0.001]\n",
    "QALY_loss_ageGroup = [0.76, 0.54, 0]\n",
    "\n",
    "MC = 10000\n",
    "pfizer_70_79 = []\n",
    "\n",
    "for i in tqdm(range(0, MC)):\n",
    "    vaccineBrand_ageGroup_transition_whichDose = [[np.random.triangular(0.4, 0.5, 0.6), np.random.triangular(0.68, 0.78, 0.85), np.random.triangular(0.82, 0.89, 1)], \n",
    "                                                [np.random.triangular(0.7, 0.8, 0.9), np.random.triangular(0.84, 0.92, 1), np.random.triangular(0.89, 0.97, 1)]]\n",
    "\n",
    "    this_pfizer_70_79, this_non_70_79 = calculate_expectation(3, willingness_vaccineBrand_whichDose, different_outcome_ageGroup, QALY_loss_ageGroup, vaccineBrand_ageGroup_transition_whichDose)\n",
    "    pfizer_70_79.append(this_pfizer_70_79)"
   ]
  },
  {
   "cell_type": "code",
   "execution_count": 50,
   "metadata": {},
   "outputs": [
    {
     "data": {
      "image/png": "[encoded data removed]",
      "text/plain": [
       "<Figure size 432x288 with 1 Axes>"
      ]
     },
     "metadata": {
      "needs_background": "light"
     },
     "output_type": "display_data"
    }
   ],
   "source": [
    "plt.hist(pfizer_70_79)\n",
    "plt.xlabel('Utility of QUALY for 70-79 (age), Pfizer Vaccine')\n",
    "plt.ylabel('Count')\n",
    "plt.title('Histogram of E(U(QUALY)) for 70-79 (age), Pfizer Vaccine')\n",
    "plt.grid()\n",
    "plt.show()"
   ]
  },
  {
   "cell_type": "code",
   "execution_count": 63,
   "metadata": {},
   "outputs": [
    {
     "name": "stdout",
     "output_type": "stream",
     "text": [
      "0.8510346643938776\n",
      "0.9452831210628625\n",
      "16930.017896634632\n"
     ]
    }
   ],
   "source": [
    "print(this_non_70_79)\n",
    "print(np.mean(pfizer_70_79))\n",
    "QALY_gained_70_79 = QALY * (np.mean(pfizer_70_79) ** 2 - this_non_70_79 ** 2)\n",
    "print(QALY_gained_70_79)"
   ]
  },
  {
   "cell_type": "code",
   "execution_count": 52,
   "metadata": {},
   "outputs": [
    {
     "name": "stderr",
     "output_type": "stream",
     "text": [
      "100%|██████████| 10000/10000 [00:00<00:00, 87895.71it/s]\n"
     ]
    }
   ],
   "source": [
    "# Pfizer 80+\n",
    "\n",
    "willingness_vaccineBrand_whichDose = [willingness_no_dose, willingness_first_dose, willingness_second_dose]\n",
    "different_outcome_ageGroup = [0.75, 0.23, 0.02]\n",
    "QALY_loss_ageGroup = [0.7, 0.4, 0]\n",
    "\n",
    "MC = 10000\n",
    "pfizer_80 = []\n",
    "\n",
    "for i in tqdm(range(0, MC)):\n",
    "    vaccineBrand_ageGroup_transition_whichDose = [[np.random.triangular(0.4, 0.5, 0.6), np.random.triangular(0.68, 0.78, 0.85), np.random.triangular(0.82, 0.89, 1)], \n",
    "                                                [np.random.triangular(0.6, 0.7, 0.8), np.random.triangular(0.84, 0.92, 1), np.random.triangular(0.86, 0.94, 1)]]\n",
    "\n",
    "    this_pfizer_80, this_non_80 = calculate_expectation(4, willingness_vaccineBrand_whichDose, different_outcome_ageGroup, QALY_loss_ageGroup, vaccineBrand_ageGroup_transition_whichDose)\n",
    "    pfizer_80.append(this_pfizer_80)"
   ]
  },
  {
   "cell_type": "code",
   "execution_count": 53,
   "metadata": {},
   "outputs": [
    {
     "data": {
      "image/png": "[encoded data removed]",
      "text/plain": [
       "<Figure size 432x288 with 1 Axes>"
      ]
     },
     "metadata": {
      "needs_background": "light"
     },
     "output_type": "display_data"
    }
   ],
   "source": [
    "plt.hist(pfizer_80)\n",
    "plt.xlabel('Utility of QUALY for 80 (age), Pfizer Vaccine')\n",
    "plt.ylabel('Count')\n",
    "plt.title('Histogram of E(U(QUALY)) for 80 (age), Pfizer Vaccine')\n",
    "plt.grid()\n",
    "plt.show()"
   ]
  },
  {
   "cell_type": "code",
   "execution_count": 64,
   "metadata": {},
   "outputs": [
    {
     "name": "stdout",
     "output_type": "stream",
     "text": [
      "0.7854934754662192\n",
      "0.885755264393034\n",
      "16756.23883999736\n"
     ]
    }
   ],
   "source": [
    "print(this_non_80)\n",
    "print(np.mean(pfizer_80))\n",
    "QALY_gained_80 = QALY * (np.mean(pfizer_80) ** 2 - this_non_80 ** 2)\n",
    "print(QALY_gained_80)"
   ]
  },
  {
   "cell_type": "markdown",
   "metadata": {},
   "source": [
    "Based on the analysis above, we know that the absolute gain for the elderly is higher than other age groups. Now, we want to calculate the implementation costs for the vaccine and see which one has the highest net expected return."
   ]
  },
  {
   "cell_type": "code",
   "execution_count": 68,
   "metadata": {},
   "outputs": [
    {
     "name": "stdout",
     "output_type": "stream",
     "text": [
      "4941.357488747043\n"
     ]
    }
   ],
   "source": [
    "# The weighted unit gain of QALY in dollars\n",
    "\n",
    "# if we consider the side effects here\n",
    "\n",
    "side_effects = []\n",
    "QALY_gain = [QALY_gained_0_19, QALY_gained_20_59, QALY_gained_60_69, QALY_gained_70_79, QALY_gained_80]\n",
    "weighted_QALY_gain = 0\n",
    "for i in range(len(population_A)):\n",
    "    weighted_QALY_gain += QALY_gain[i] * population_A[i]\n",
    "print(weighted_QALY_gain)\n",
    "\n"
   ]
  },
  {
   "cell_type": "markdown",
   "metadata": {},
   "source": []
  }
 ],
 "metadata": {
  "kernelspec": {
   "display_name": "Python 3.8.5",
   "language": "python",
   "name": "python3"
  },
  "language_info": {
   "codemirror_mode": {
    "name": "ipython",
    "version": 3
   },
   "file_extension": ".py",
   "mimetype": "text/x-python",
   "name": "python",
   "nbconvert_exporter": "python",
   "pygments_lexer": "ipython3",
   "version": "3.8.5"
  },
  "orig_nbformat": 4,
  "vscode": {
   "interpreter": {
    "hash": "40d3a090f54c6569ab1632332b64b2c03c39dcf918b08424e98f38b5ae0af88f"
   }
  }
 },
 "nbformat": 4,
 "nbformat_minor": 2
}
